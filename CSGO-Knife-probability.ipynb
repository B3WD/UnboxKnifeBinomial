{
 "cells": [
  {
   "cell_type": "code",
   "execution_count": 1,
   "metadata": {
    "ExecuteTime": {
     "end_time": "2022-03-28T21:01:13.492188Z",
     "start_time": "2022-03-28T21:01:13.265473Z"
    }
   },
   "outputs": [],
   "source": [
    "%matplotlib inline"
   ]
  },
  {
   "cell_type": "code",
   "execution_count": 2,
   "metadata": {
    "ExecuteTime": {
     "end_time": "2022-03-28T21:01:13.507695Z",
     "start_time": "2022-03-28T21:01:13.492188Z"
    }
   },
   "outputs": [],
   "source": [
    "import matplotlib.pyplot as plt"
   ]
  },
  {
   "cell_type": "code",
   "execution_count": 3,
   "metadata": {
    "ExecuteTime": {
     "end_time": "2022-03-28T21:01:13.523290Z",
     "start_time": "2022-03-28T21:01:13.508698Z"
    }
   },
   "outputs": [],
   "source": [
    "# http://csharphelper.com/blog/2014/08/calculate-the-binomial-coefficient-n-choose-k-efficiently-in-c/\n",
    "\n",
    "def binomial_coef(n, k):\n",
    "    \"Return the number of ways k successes can be arranged in n experiments\"\n",
    "    \n",
    "    if k > n:\n",
    "        raise ValueError\n",
    "    \n",
    "    res = 1;\n",
    "    \n",
    "    for i in range(1, k + 1):\n",
    "        res *= n - (k - i)\n",
    "        res /= i\n",
    "        \n",
    "    return res"
   ]
  },
  {
   "cell_type": "code",
   "execution_count": 4,
   "metadata": {
    "ExecuteTime": {
     "end_time": "2022-03-28T21:01:13.539301Z",
     "start_time": "2022-03-28T21:01:13.524291Z"
    }
   },
   "outputs": [
    {
     "data": {
      "text/plain": [
       "32308782859535.0"
      ]
     },
     "execution_count": 4,
     "metadata": {},
     "output_type": "execute_result"
    }
   ],
   "source": [
    "binomial_coef(53, 17)"
   ]
  },
  {
   "cell_type": "code",
   "execution_count": 5,
   "metadata": {
    "ExecuteTime": {
     "end_time": "2022-03-28T21:01:13.555306Z",
     "start_time": "2022-03-28T21:01:13.540302Z"
    }
   },
   "outputs": [],
   "source": [
    "# binomial_coef(17, 53)"
   ]
  },
  {
   "cell_type": "code",
   "execution_count": 6,
   "metadata": {
    "ExecuteTime": {
     "end_time": "2022-03-28T21:01:13.571311Z",
     "start_time": "2022-03-28T21:01:13.556307Z"
    }
   },
   "outputs": [],
   "source": [
    "def binomial_probability(n, k, p):\n",
    "    \"\"\"\n",
    "    Return the probability of getting k successes in n experiments. \n",
    "    P(success) = p\n",
    "    \"\"\"\n",
    "    \n",
    "    bc = binomial_coef(n, k)\n",
    "    proba_per_comb = (p**k) * ((1 - p)**(n - k))\n",
    "    \n",
    "    return  bc * proba_per_comb"
   ]
  },
  {
   "cell_type": "markdown",
   "metadata": {},
   "source": [
    "**Example problem 1**\n",
    "\n",
    "What is the probability that 2 out of 5 newborns are girls? P(girls) = 0.49"
   ]
  },
  {
   "cell_type": "code",
   "execution_count": 7,
   "metadata": {
    "ExecuteTime": {
     "end_time": "2022-03-28T21:01:13.587319Z",
     "start_time": "2022-03-28T21:01:13.573315Z"
    }
   },
   "outputs": [],
   "source": [
    "P_girl = 0.49"
   ]
  },
  {
   "cell_type": "code",
   "execution_count": 8,
   "metadata": {
    "ExecuteTime": {
     "end_time": "2022-03-28T21:01:13.603026Z",
     "start_time": "2022-03-28T21:01:13.588319Z"
    }
   },
   "outputs": [
    {
     "data": {
      "text/plain": [
       "0.31849505100000003"
      ]
     },
     "execution_count": 8,
     "metadata": {},
     "output_type": "execute_result"
    }
   ],
   "source": [
    "binomial_probability(5, 2, P_girl)"
   ]
  },
  {
   "cell_type": "markdown",
   "metadata": {},
   "source": [
    "**Example problem 2**\n",
    "\n",
    "What is the probability of unboxing a knife in 10 cases? P(knife) = 0.0026"
   ]
  },
  {
   "cell_type": "code",
   "execution_count": 9,
   "metadata": {
    "ExecuteTime": {
     "end_time": "2022-03-28T21:01:13.635046Z",
     "start_time": "2022-03-28T21:01:13.604027Z"
    }
   },
   "outputs": [],
   "source": [
    "P_knife = 0.0026"
   ]
  },
  {
   "cell_type": "code",
   "execution_count": 10,
   "metadata": {
    "ExecuteTime": {
     "end_time": "2022-03-28T21:01:13.650534Z",
     "start_time": "2022-03-28T21:01:13.636047Z"
    }
   },
   "outputs": [
    {
     "data": {
      "text/plain": [
       "0.025397889123332764"
      ]
     },
     "execution_count": 10,
     "metadata": {},
     "output_type": "execute_result"
    }
   ],
   "source": [
    "binomial_probability(10, 1, P_knife)"
   ]
  },
  {
   "cell_type": "markdown",
   "metadata": {},
   "source": [
    "That equates to 1 in 50."
   ]
  },
  {
   "cell_type": "markdown",
   "metadata": {},
   "source": [
    "What if we like wasting money and are extremely unlucky? What if we do not get a single knife in 3000 cases?\n",
    "* https://youtu.be/-8Ks-tDziIY?t=152"
   ]
  },
  {
   "cell_type": "code",
   "execution_count": 11,
   "metadata": {
    "ExecuteTime": {
     "end_time": "2022-03-28T21:01:13.666206Z",
     "start_time": "2022-03-28T21:01:13.651050Z"
    }
   },
   "outputs": [
    {
     "data": {
      "text/plain": [
       "0.0004055941169535908"
      ]
     },
     "execution_count": 11,
     "metadata": {},
     "output_type": "execute_result"
    }
   ],
   "source": [
    "binomial_probability(3000, 0, P_knife)"
   ]
  },
  {
   "cell_type": "markdown",
   "metadata": {},
   "source": [
    "Now that is unlucky! 1 in 2500."
   ]
  },
  {
   "cell_type": "markdown",
   "metadata": {
    "ExecuteTime": {
     "end_time": "2022-03-28T19:36:55.243134Z",
     "start_time": "2022-03-28T19:36:55.228121Z"
    }
   },
   "source": [
    "### Probability histogram"
   ]
  },
  {
   "cell_type": "code",
   "execution_count": 12,
   "metadata": {
    "ExecuteTime": {
     "end_time": "2022-03-28T21:01:13.681643Z",
     "start_time": "2022-03-28T21:01:13.667440Z"
    }
   },
   "outputs": [],
   "source": [
    "def plot_binomial_prob_histogram(n, p, y_scale_log = False):\n",
    "    ks = list(range(n + 1))\n",
    "    probs = [binomial_probability(n, k, p) for k in ks]\n",
    "    \n",
    "    plt.figure(figsize=(12, 8))\n",
    "    plt.bar(ks, probs, width = 1, edgecolor='black')\n",
    "    \n",
    "    if y_scale_log:\n",
    "        plt.yscale(\"log\")\n",
    "\n",
    "    plt.title(f\"Probability histogram for the binomial with n={n}, p={p}\")\n",
    "    plt.xlabel(\"X\")\n",
    "    plt.ylabel(\"Probability\")\n",
    "    plt.show()"
   ]
  },
  {
   "cell_type": "code",
   "execution_count": 13,
   "metadata": {
    "ExecuteTime": {
     "end_time": "2022-03-28T21:01:14.110574Z",
     "start_time": "2022-03-28T21:01:13.682646Z"
    }
   },
   "outputs": [
    {
     "data": {
      "image/png": "[encoded data removed]",
      "text/plain": [
       "<Figure size 864x576 with 1 Axes>"
      ]
     },
     "metadata": {
      "needs_background": "light"
     },
     "output_type": "display_data"
    }
   ],
   "source": [
    "plot_binomial_prob_histogram(100, P_knife, y_scale_log = True)"
   ]
  },
  {
   "cell_type": "code",
   "execution_count": 14,
   "metadata": {
    "ExecuteTime": {
     "end_time": "2022-03-28T21:01:14.270577Z",
     "start_time": "2022-03-28T21:01:14.111574Z"
    }
   },
   "outputs": [
    {
     "data": {
      "image/png": "[encoded data removed]",
      "text/plain": [
       "<Figure size 864x576 with 1 Axes>"
      ]
     },
     "metadata": {
      "needs_background": "light"
     },
     "output_type": "display_data"
    }
   ],
   "source": [
    "plot_binomial_prob_histogram(50, 0.5)"
   ]
  },
  {
   "cell_type": "code",
   "execution_count": 15,
   "metadata": {
    "ExecuteTime": {
     "end_time": "2022-03-28T21:01:14.398692Z",
     "start_time": "2022-03-28T21:01:14.271577Z"
    }
   },
   "outputs": [
    {
     "data": {
      "image/png": "[encoded data removed]",
      "text/plain": [
       "<Figure size 864x576 with 1 Axes>"
      ]
     },
     "metadata": {
      "needs_background": "light"
     },
     "output_type": "display_data"
    }
   ],
   "source": [
    "plot_binomial_prob_histogram(10, 0.2)"
   ]
  },
  {
   "cell_type": "code",
   "execution_count": null,
   "metadata": {},
   "outputs": [],
   "source": []
  }
 ],
 "metadata": {
  "kernelspec": {
   "display_name": "Python 3",
   "language": "python",
   "name": "python3"
  },
  "language_info": {
   "codemirror_mode": {
    "name": "ipython",
    "version": 3
   },
   "file_extension": ".py",
   "mimetype": "text/x-python",
   "name": "python",
   "nbconvert_exporter": "python",
   "pygments_lexer": "ipython3",
   "version": "3.7.4"
  },
  "varInspector": {
   "cols": {
    "lenName": 16,
    "lenType": 16,
    "lenVar": 40
   },
   "kernels_config": {
    "python": {
     "delete_cmd_postfix": "",
     "delete_cmd_prefix": "del ",
     "library": "var_list.py",
     "varRefreshCmd": "print(var_dic_list())"
    },
    "r": {
     "delete_cmd_postfix": ") ",
     "delete_cmd_prefix": "rm(",
     "library": "var_list.r",
     "varRefreshCmd": "cat(var_dic_list()) "
    }
   },
   "types_to_exclude": [
    "module",
    "function",
    "builtin_function_or_method",
    "instance",
    "_Feature"
   ],
   "window_display": false
  }
 },
 "nbformat": 4,
 "nbformat_minor": 2
}
